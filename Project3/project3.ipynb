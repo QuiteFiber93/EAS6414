{
 "cells": [
  {
   "cell_type": "markdown",
   "id": "65357fda",
   "metadata": {},
   "source": [
    "# Imports"
   ]
  },
  {
   "cell_type": "code",
   "execution_count": null,
   "id": "4fe81d84",
   "metadata": {},
   "outputs": [],
   "source": [
    "import matplotlib.pyplot as plt, numpy as np\n",
    "from numpy import pi, sin, cos\n",
    "from scipy.integrate import solve_ivp\n",
    "\n",
    "%matplotlib inline\n"
   ]
  },
  {
   "cell_type": "markdown",
   "id": "1bfb9c7c",
   "metadata": {},
   "source": [
    "# Task 1"
   ]
  },
  {
   "cell_type": "markdown",
   "id": "5659485a",
   "metadata": {},
   "source": [
    "## True Parameters"
   ]
  },
  {
   "cell_type": "code",
   "execution_count": 2,
   "id": "b03c17c6",
   "metadata": {},
   "outputs": [],
   "source": [
    "x0 = np.array([2, 0])\n",
    "p = np.array([0.05, 4, 0.2, -0.5, 10, pi/2])\n",
    "tspan = [0, 300]"
   ]
  },
  {
   "cell_type": "markdown",
   "id": "41ed4fc5",
   "metadata": {},
   "source": [
    "## Function Dynamics"
   ]
  },
  {
   "cell_type": "code",
   "execution_count": null,
   "id": "2195d3e6",
   "metadata": {},
   "outputs": [],
   "source": [
    "def dynamics(t, y, p):\n",
    "    # Extracting x, phi, psi\n",
    "    x, phi, psi = y[:2], y[2:6].reshape(2, 2), y[6:].reshape(2, 6)\n",
    "    p1, p2, p3, p4, p5, p6 = p\n",
    "    \n",
    "    A = np.array([\n",
    "        [0, 1],\n",
    "        [-(p2 + 3*p3*x[0]**2), -p1]\n",
    "    ])\n",
    "    \n",
    "    dfdp = None\n",
    "    \n",
    "    xdot = np.array([\n",
    "        x[1],\n",
    "        -( p1*x[1] + p2*x[0] + p3*x[0]**3 + p4*sin(p5*t + p6) )\n",
    "    ])\n",
    "    \n",
    "    phidot = A @ phi\n",
    "    \n",
    "    \n",
    "    "
   ]
  }
 ],
 "metadata": {
  "kernelspec": {
   "display_name": "base",
   "language": "python",
   "name": "python3"
  },
  "language_info": {
   "codemirror_mode": {
    "name": "ipython",
    "version": 3
   },
   "file_extension": ".py",
   "mimetype": "text/x-python",
   "name": "python",
   "nbconvert_exporter": "python",
   "pygments_lexer": "ipython3",
   "version": "3.12.3"
  }
 },
 "nbformat": 4,
 "nbformat_minor": 5
}
